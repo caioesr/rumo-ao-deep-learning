{
 "cells": [
  {
   "cell_type": "markdown",
   "metadata": {},
   "source": [
    "<i>Entende bem o que eu quero dizer. O Senhor há de dar-te inteligência em tudo.\n",
    "    \n",
    "   2 Timóteo 2:7</i>"
   ]
  },
  {
   "cell_type": "markdown",
   "metadata": {},
   "source": [
    "# Montando a primeira Rede Neural\n",
    "#### Oferecimento: Caio International Productions and Business"
   ]
  },
  {
   "cell_type": "markdown",
   "metadata": {},
   "source": [
    "<div id=\"introducao\"></div>\n",
    "\n",
    "___\n",
    "\n",
    "## Introdução"
   ]
  },
  {
   "cell_type": "markdown",
   "metadata": {},
   "source": [
    "<div id=\"vamos-aprender\"></div>\n",
    "\n",
    "### O que vamos aprender:\n",
    "\n",
    "- Você vai aprender a fazer uma rede neural artificial (ANN, da sigla em inglês)\n",
    "- Você vai aprender a treinar e tunnar os parâmetros dessa rede neural"
   ]
  },
  {
   "cell_type": "markdown",
   "metadata": {},
   "source": [
    "<div id=\"n-vamos-aprender\"></div>\n",
    "\n",
    "### O que não vamos aprender\n",
    "\n",
    "- Você não vai aprender a criar outras redes neurais\n",
    "\n",
    "No universo de redes neurais existem diversos tipos de redes. Só pra você ter uma ideia, olhe a seguinte imagem:\n",
    "\n",
    "<img src=\"https://www.asimovinstitute.org/wp-content/uploads/2019/04/NeuralNetworkZoo20042019-1400x2380.png\" height=\"680\" width=\"400\">\n",
    "\n",
    "E essas são só algumas redes neurais e neurônios existentes. Você pode ler mais sobre isso no excelentíssimo <a href=\"https://www.asimovinstitute.org/neural-network-zoo/\" target=\"blank_\">artigo</a> <i>The Neural Network Zoo</i> do Instituto Asimov.\n",
    "\n",
    "- Você não vai aprender Deep Learning\n",
    "\n",
    "É fato que redes neurais são amplamente utilizadas no conceito de Deep Learning. Entretanto, para falarmos de aprendizagem profunda precisamos introduzir outros conceitos e especificações que não veremos aqui.\n",
    "\n",
    "- Você não vai aprender TensorFlow\n",
    "\n",
    "Usaremos Keras e TensorFlow para construirmos nossa rede, mas você não irá aprender todo o arsenal de ferramentas que essas duas maravilhas do Google oferecem."
   ]
  },
  {
   "cell_type": "markdown",
   "metadata": {},
   "source": [
    "<div id=\"o-que-fazer\"></div>\n",
    "\n",
    "___\n",
    "\n",
    "## Entendendo o que vamos fazer\n",
    "\n",
    "Simbora então pro código"
   ]
  },
  {
   "cell_type": "markdown",
   "metadata": {},
   "source": [
    "<div id=\"bibliotecas\"></div>\n",
    "\n",
    "### Importando bibliotecas e dataset\n",
    "\n",
    "Por agora só irei importar as bibliotecas mais básicas para o projeto"
   ]
  },
  {
   "cell_type": "code",
   "execution_count": 1,
   "metadata": {},
   "outputs": [],
   "source": [
    "import numpy as np\n",
    "import matplotlib.pyplot as plt\n",
    "import pandas as pd"
   ]
  },
  {
   "cell_type": "code",
   "execution_count": 2,
   "metadata": {},
   "outputs": [
    {
     "data": {
      "text/html": [
       "<div>\n",
       "<style scoped>\n",
       "    .dataframe tbody tr th:only-of-type {\n",
       "        vertical-align: middle;\n",
       "    }\n",
       "\n",
       "    .dataframe tbody tr th {\n",
       "        vertical-align: top;\n",
       "    }\n",
       "\n",
       "    .dataframe thead th {\n",
       "        text-align: right;\n",
       "    }\n",
       "</style>\n",
       "<table border=\"1\" class=\"dataframe\">\n",
       "  <thead>\n",
       "    <tr style=\"text-align: right;\">\n",
       "      <th></th>\n",
       "      <th>RowNumber</th>\n",
       "      <th>CustomerId</th>\n",
       "      <th>Surname</th>\n",
       "      <th>CreditScore</th>\n",
       "      <th>Geography</th>\n",
       "      <th>Gender</th>\n",
       "      <th>Age</th>\n",
       "      <th>Tenure</th>\n",
       "      <th>Balance</th>\n",
       "      <th>NumOfProducts</th>\n",
       "      <th>HasCrCard</th>\n",
       "      <th>IsActiveMember</th>\n",
       "      <th>EstimatedSalary</th>\n",
       "      <th>Exited</th>\n",
       "    </tr>\n",
       "  </thead>\n",
       "  <tbody>\n",
       "    <tr>\n",
       "      <th>0</th>\n",
       "      <td>1</td>\n",
       "      <td>15634602</td>\n",
       "      <td>Hargrave</td>\n",
       "      <td>619</td>\n",
       "      <td>France</td>\n",
       "      <td>Female</td>\n",
       "      <td>42</td>\n",
       "      <td>2</td>\n",
       "      <td>0.00</td>\n",
       "      <td>1</td>\n",
       "      <td>1</td>\n",
       "      <td>1</td>\n",
       "      <td>101348.88</td>\n",
       "      <td>1</td>\n",
       "    </tr>\n",
       "    <tr>\n",
       "      <th>1</th>\n",
       "      <td>2</td>\n",
       "      <td>15647311</td>\n",
       "      <td>Hill</td>\n",
       "      <td>608</td>\n",
       "      <td>Spain</td>\n",
       "      <td>Female</td>\n",
       "      <td>41</td>\n",
       "      <td>1</td>\n",
       "      <td>83807.86</td>\n",
       "      <td>1</td>\n",
       "      <td>0</td>\n",
       "      <td>1</td>\n",
       "      <td>112542.58</td>\n",
       "      <td>0</td>\n",
       "    </tr>\n",
       "    <tr>\n",
       "      <th>2</th>\n",
       "      <td>3</td>\n",
       "      <td>15619304</td>\n",
       "      <td>Onio</td>\n",
       "      <td>502</td>\n",
       "      <td>France</td>\n",
       "      <td>Female</td>\n",
       "      <td>42</td>\n",
       "      <td>8</td>\n",
       "      <td>159660.80</td>\n",
       "      <td>3</td>\n",
       "      <td>1</td>\n",
       "      <td>0</td>\n",
       "      <td>113931.57</td>\n",
       "      <td>1</td>\n",
       "    </tr>\n",
       "    <tr>\n",
       "      <th>3</th>\n",
       "      <td>4</td>\n",
       "      <td>15701354</td>\n",
       "      <td>Boni</td>\n",
       "      <td>699</td>\n",
       "      <td>France</td>\n",
       "      <td>Female</td>\n",
       "      <td>39</td>\n",
       "      <td>1</td>\n",
       "      <td>0.00</td>\n",
       "      <td>2</td>\n",
       "      <td>0</td>\n",
       "      <td>0</td>\n",
       "      <td>93826.63</td>\n",
       "      <td>0</td>\n",
       "    </tr>\n",
       "    <tr>\n",
       "      <th>4</th>\n",
       "      <td>5</td>\n",
       "      <td>15737888</td>\n",
       "      <td>Mitchell</td>\n",
       "      <td>850</td>\n",
       "      <td>Spain</td>\n",
       "      <td>Female</td>\n",
       "      <td>43</td>\n",
       "      <td>2</td>\n",
       "      <td>125510.82</td>\n",
       "      <td>1</td>\n",
       "      <td>1</td>\n",
       "      <td>1</td>\n",
       "      <td>79084.10</td>\n",
       "      <td>0</td>\n",
       "    </tr>\n",
       "  </tbody>\n",
       "</table>\n",
       "</div>"
      ],
      "text/plain": [
       "   RowNumber  CustomerId   Surname  CreditScore Geography  Gender  Age  \\\n",
       "0          1    15634602  Hargrave          619    France  Female   42   \n",
       "1          2    15647311      Hill          608     Spain  Female   41   \n",
       "2          3    15619304      Onio          502    France  Female   42   \n",
       "3          4    15701354      Boni          699    France  Female   39   \n",
       "4          5    15737888  Mitchell          850     Spain  Female   43   \n",
       "\n",
       "   Tenure    Balance  NumOfProducts  HasCrCard  IsActiveMember  \\\n",
       "0       2       0.00              1          1               1   \n",
       "1       1   83807.86              1          0               1   \n",
       "2       8  159660.80              3          1               0   \n",
       "3       1       0.00              2          0               0   \n",
       "4       2  125510.82              1          1               1   \n",
       "\n",
       "   EstimatedSalary  Exited  \n",
       "0        101348.88       1  \n",
       "1        112542.58       0  \n",
       "2        113931.57       1  \n",
       "3         93826.63       0  \n",
       "4         79084.10       0  "
      ]
     },
     "execution_count": 2,
     "metadata": {},
     "output_type": "execute_result"
    }
   ],
   "source": [
    "dataset = pd.read_csv('Churn_Modelling.csv')\n",
    "dataset.head()"
   ]
  },
  {
   "cell_type": "code",
   "execution_count": 3,
   "metadata": {},
   "outputs": [],
   "source": [
    "X = dataset.drop(['RowNumber','CustomerId','Surname','Exited'], axis=1)\n",
    "y = dataset['Exited']"
   ]
  },
  {
   "cell_type": "markdown",
   "metadata": {},
   "source": [
    "<div id=\"dataset\"></div>\n",
    "\n",
    "### Trabalhando um pouco com o dataset"
   ]
  },
  {
   "cell_type": "code",
   "execution_count": 4,
   "metadata": {},
   "outputs": [
    {
     "data": {
      "text/html": [
       "<div>\n",
       "<style scoped>\n",
       "    .dataframe tbody tr th:only-of-type {\n",
       "        vertical-align: middle;\n",
       "    }\n",
       "\n",
       "    .dataframe tbody tr th {\n",
       "        vertical-align: top;\n",
       "    }\n",
       "\n",
       "    .dataframe thead th {\n",
       "        text-align: right;\n",
       "    }\n",
       "</style>\n",
       "<table border=\"1\" class=\"dataframe\">\n",
       "  <thead>\n",
       "    <tr style=\"text-align: right;\">\n",
       "      <th></th>\n",
       "      <th>CreditScore</th>\n",
       "      <th>Geography</th>\n",
       "      <th>Gender</th>\n",
       "      <th>Age</th>\n",
       "      <th>Tenure</th>\n",
       "      <th>Balance</th>\n",
       "      <th>NumOfProducts</th>\n",
       "      <th>HasCrCard</th>\n",
       "      <th>IsActiveMember</th>\n",
       "      <th>EstimatedSalary</th>\n",
       "    </tr>\n",
       "  </thead>\n",
       "  <tbody>\n",
       "    <tr>\n",
       "      <th>0</th>\n",
       "      <td>619</td>\n",
       "      <td>0</td>\n",
       "      <td>0</td>\n",
       "      <td>42</td>\n",
       "      <td>2</td>\n",
       "      <td>0.00</td>\n",
       "      <td>1</td>\n",
       "      <td>1</td>\n",
       "      <td>1</td>\n",
       "      <td>101348.88</td>\n",
       "    </tr>\n",
       "    <tr>\n",
       "      <th>1</th>\n",
       "      <td>608</td>\n",
       "      <td>2</td>\n",
       "      <td>0</td>\n",
       "      <td>41</td>\n",
       "      <td>1</td>\n",
       "      <td>83807.86</td>\n",
       "      <td>1</td>\n",
       "      <td>0</td>\n",
       "      <td>1</td>\n",
       "      <td>112542.58</td>\n",
       "    </tr>\n",
       "    <tr>\n",
       "      <th>2</th>\n",
       "      <td>502</td>\n",
       "      <td>0</td>\n",
       "      <td>0</td>\n",
       "      <td>42</td>\n",
       "      <td>8</td>\n",
       "      <td>159660.80</td>\n",
       "      <td>3</td>\n",
       "      <td>1</td>\n",
       "      <td>0</td>\n",
       "      <td>113931.57</td>\n",
       "    </tr>\n",
       "    <tr>\n",
       "      <th>3</th>\n",
       "      <td>699</td>\n",
       "      <td>0</td>\n",
       "      <td>0</td>\n",
       "      <td>39</td>\n",
       "      <td>1</td>\n",
       "      <td>0.00</td>\n",
       "      <td>2</td>\n",
       "      <td>0</td>\n",
       "      <td>0</td>\n",
       "      <td>93826.63</td>\n",
       "    </tr>\n",
       "    <tr>\n",
       "      <th>4</th>\n",
       "      <td>850</td>\n",
       "      <td>2</td>\n",
       "      <td>0</td>\n",
       "      <td>43</td>\n",
       "      <td>2</td>\n",
       "      <td>125510.82</td>\n",
       "      <td>1</td>\n",
       "      <td>1</td>\n",
       "      <td>1</td>\n",
       "      <td>79084.10</td>\n",
       "    </tr>\n",
       "  </tbody>\n",
       "</table>\n",
       "</div>"
      ],
      "text/plain": [
       "   CreditScore  Geography  Gender  Age  Tenure    Balance  NumOfProducts  \\\n",
       "0          619          0       0   42       2       0.00              1   \n",
       "1          608          2       0   41       1   83807.86              1   \n",
       "2          502          0       0   42       8  159660.80              3   \n",
       "3          699          0       0   39       1       0.00              2   \n",
       "4          850          2       0   43       2  125510.82              1   \n",
       "\n",
       "   HasCrCard  IsActiveMember  EstimatedSalary  \n",
       "0          1               1        101348.88  \n",
       "1          0               1        112542.58  \n",
       "2          1               0        113931.57  \n",
       "3          0               0         93826.63  \n",
       "4          1               1         79084.10  "
      ]
     },
     "execution_count": 4,
     "metadata": {},
     "output_type": "execute_result"
    }
   ],
   "source": [
    "from sklearn.preprocessing import LabelEncoder\n",
    "labelencoder_X_1 = LabelEncoder()\n",
    "X['Geography'] = labelencoder_X_1.fit_transform(X['Geography'])\n",
    "labelencoder_X_2 = LabelEncoder()\n",
    "X['Gender'] = labelencoder_X_2.fit_transform(X['Gender'])\n",
    "X.head()"
   ]
  },
  {
   "cell_type": "code",
   "execution_count": 5,
   "metadata": {},
   "outputs": [],
   "source": [
    "from sklearn.model_selection import train_test_split\n",
    "X_train, X_test, y_train, y_test = train_test_split(X, y, test_size = 0.2, random_state = 0)"
   ]
  },
  {
   "cell_type": "code",
   "execution_count": 6,
   "metadata": {},
   "outputs": [],
   "source": [
    "from sklearn.preprocessing import StandardScaler\n",
    "sc = StandardScaler()\n",
    "X_train = sc.fit_transform(X_train)\n",
    "X_test = sc.transform(X_test)"
   ]
  },
  {
   "cell_type": "markdown",
   "metadata": {},
   "source": [
    "---\n",
    "\n",
    "## Começando a rede neural"
   ]
  },
  {
   "cell_type": "markdown",
   "metadata": {},
   "source": [
    "### O neurônio\n",
    "\n",
    "<img src=\"https://www.scielo.br/img/revistas/jmoea/v16n3//2179-1074-jmoea-16-03-0628-gf02.jpg\" height=\"208\" width=\"438\">\n",
    "\n",
    "Entender um único neurônio por si só não é muito mais complicado do que calcular o lucro de uma simples lanchonete pequena. Imagine que você tenha uma lanchonete e você só venda três itens: suco, coxinha e cachorro-quente. Cada um custa dois, cinco e quatro reais respectivamente. Para calcular o seu lucro mensal é bem simples: você deve calcular a soma de quanto vendeu de cada item vezes o valor do item e subtrair disso suas despesas.\n",
    "\n",
    "Imagine que depois você queira saber se teve prejuízo ou não. Você vai olhar pro resultado da conta acima e se perguntar: esse número é maior ou menor que zero? (na prática ninguém se pergunta isso, é algo tão banal que você faz como respirar)\n",
    "\n",
    "Em seguida, você pode se deparar com um prejuízo e ficar muito triste com isso. Imagine que você queira ter um lucro positivo todo mês (não importa quão grande, você se contenta com um real que seja). Para isso você resolve ajustar os preços todo mês com base nos resultados do mês passado visando maximizar suas chances de obter um lucro maior que zero.\n",
    "\n",
    "O neurônio é basicamente isso. Formalmente, ele é uma função que recebe uma série de números (que podem vir na forma de vetores, matrizes, tensores, etc) e multiplica estes por outra série de pesos. A este produto somamos um outro parâmetro conhecido como <i>bias</i>. Em seguida, este resultado passa pelo que chamamos de função de ativação e esta é responsável por nos dar um output (o veredito sobre o lucro).\n",
    "Treinar um único neurônio significa, com base nos resultados anteriores já vistos por este, escolher uma nova série de pesos que maximize a chance de obter o output desejado.\n",
    "\n",
    "Se quiser entender mais sobre isso, você pode ler este <a href=\"https://towardsdatascience.com/perceptron-the-artificial-neuron-4d8c70d5cc8d\" target=\"blank_\">artigo</a> sobre o Perceptron, um classificador muito simples que exemplifica bem o fundamento de um neurônio artificial.\n",
    "\n",
    "A associação de vários neurônios nós chamaremos de camada e a associação destas camadas é o que chamaremos finalmente de rede neural."
   ]
  },
  {
   "cell_type": "markdown",
   "metadata": {},
   "source": [
    "De agora em diante vamos não só construir como explicar cada parte desse processo de treinar uma rede neural"
   ]
  },
  {
   "cell_type": "code",
   "execution_count": 7,
   "metadata": {},
   "outputs": [
    {
     "name": "stderr",
     "output_type": "stream",
     "text": [
      "Using TensorFlow backend.\n"
     ]
    }
   ],
   "source": [
    "import keras\n",
    "from keras.models import Sequential\n",
    "from keras.layers import Dense"
   ]
  },
  {
   "cell_type": "markdown",
   "metadata": {},
   "source": [
    "### Adicionando a primeira layer"
   ]
  },
  {
   "cell_type": "code",
   "execution_count": 8,
   "metadata": {},
   "outputs": [],
   "source": [
    "classifier = Sequential()\n",
    "classifier.add(Dense(units = 6, kernel_initializer = 'uniform', activation = 'relu', input_dim = 10))"
   ]
  },
  {
   "cell_type": "markdown",
   "metadata": {},
   "source": [
    "Um parâmetro dessa layer é muito importante de entendermos, então vou fazer uma pausa para estudarmos um pouco dele:"
   ]
  },
  {
   "cell_type": "markdown",
   "metadata": {},
   "source": [
    "### Funções de ativação\n",
    "\n",
    "Como foi dito antes, para saber se você teve lucro ou prejuízo na sua lanchonete você comparava o valor obtido com zero para saber se ele foi positivo ou negativo. Escrevendo isso de um jeito matemático, podemos dizer:\n",
    "\n",
    "$$f(n) = \\begin{cases} n  > 0, & \\mbox{lucro! :D} \\\\ n < 0, & \\mbox{prejuízo :(} \\end{cases}$$\n",
    "\n",
    "Podemos dizer que $f(n)$ é nossa função de ativação.\n",
    "\n",
    "A função de ativação é responsável por definir o output de cada neurônio em nossa rede neural.\n",
    "Alguns exemplos (e os mais comuns) de funções de ativação são:"
   ]
  },
  {
   "cell_type": "markdown",
   "metadata": {},
   "source": [
    "#### ReLU\n",
    "\n",
    "ReLU, abreviação de <i>Restricted Linear Unit</i>, é a mais comum e mais simples função de ativação. Principalmente pelo fato que requer menos poder computacional o que reduz o tempo e memória durante a criação de redes maiores e mais complexas ou realizar tarefas de backpropagation.\n",
    "A função ReLU é simplesmente:\n",
    "\n",
    "$$f(x) = max(0, x)$$\n",
    "\n",
    "E seu gráfico então:\n",
    "\n",
    "<img src=\"https://www.researchgate.net/profile/Leo_Pauly/publication/319235847/figure/fig3/AS:537056121634820@1505055565670/ReLU-activation-function.png\" width=400 height=400>"
   ]
  },
  {
   "cell_type": "markdown",
   "metadata": {},
   "source": [
    "#### Sigmoid\n",
    "\n",
    "Sigmoid é outra função muito usada, principalmente para problemas não lineares e que envolvam uma ou mais possíveis classes. Sua função é:\n",
    "\n",
    "$$f(x) = \\frac{1}{1+e^{-x}}$$\n",
    "\n",
    "E seu gráfico:\n",
    "\n",
    "<img src=\"https://www.dobitaobyte.com.br/wp-content/uploads/2018/12/sigmoid.png\" width=400 height=400>"
   ]
  },
  {
   "cell_type": "markdown",
   "metadata": {},
   "source": [
    "#### Hyperbolic tangent\n",
    "\n",
    "Essa é bem parecida com a função sigmoid, por isso você pode se perguntar \"e por quê usá-la?\". Bom, isso tem a ver com sua derivada e como a derivada das funções de ativação afetam seu modelo. Isso quem sabe eu não explico em outra aula, daria algumas boas horas.\n",
    "\n",
    "Sua função:\n",
    "\n",
    "$$f(x) = tanh(x) = \\frac{e^x - e^{-x}}{e^x + e^{-x}}$$\n",
    "\n",
    "E seu gráfico:\n",
    "\n",
    "<img src=\"https://mathworld.wolfram.com/images/interactive/TanhReal.gif\" height=400 width=400>"
   ]
  },
  {
   "cell_type": "code",
   "execution_count": 9,
   "metadata": {},
   "outputs": [],
   "source": [
    "classifier.add(Dense(units = 6, kernel_initializer = 'uniform', activation = 'relu'))\n",
    "classifier.add(Dense(units = 1, kernel_initializer = 'uniform', activation = 'sigmoid'))"
   ]
  },
  {
   "cell_type": "markdown",
   "metadata": {},
   "source": [
    "Agora vamos compilar nosso modelo"
   ]
  },
  {
   "cell_type": "code",
   "execution_count": 10,
   "metadata": {},
   "outputs": [],
   "source": [
    "classifier.compile(optimizer = 'adam', loss = 'binary_crossentropy', metrics = ['accuracy'])"
   ]
  },
  {
   "cell_type": "markdown",
   "metadata": {},
   "source": [
    "Aqui tem mais explicações..."
   ]
  },
  {
   "cell_type": "markdown",
   "metadata": {},
   "source": [
    "### Optimizadores\n",
    "\n"
   ]
  },
  {
   "cell_type": "markdown",
   "metadata": {},
   "source": [
    "Ou algoritmos optimizadores, são algoritmos que comparam a cada nova iteração o valor de uma variável com um valor ideal ou correto para aquela variável e, com isto, faz alterações nos parâmetros a fim de obter melhores resultados. A lista de optimizadores é muito grande e, diferente das funções de ativação, é bem mais difícil explicar. Por isso, vou focar no que eu vou usar (e o mais popular de todos)."
   ]
  },
  {
   "cell_type": "markdown",
   "metadata": {},
   "source": [
    "#### ADAM optimizer\n",
    "\n",
    "<img src=\"https://br.web.img2.acsta.net/pictures/17/06/20/16/57/103535.jpg\" width=150 height=200>\n",
    "\n",
    "Derivado de <i>Adaptative Moment Estimation</i>, ADAM é um optimizador baseado em dois muito famosos: <i>Adaptive Gradient Algorithm</i> e <i>Root Mean Square Propagation</i>. Diferente de modelos mais populares usados em Machine Learning como <i>Stochastic Gradient Descent</i>, ADAM tem a vantagem de não manter a taxa de aprendizagem constante, mas mudá-la para obter resultados mais rápidos com base nas iterações passadas e esse é o motivo de ser tão popular. Além disso, outras vantagens de ADAM são:\n",
    "- Aloca pouca memória durante a execução\n",
    "- Simples de implementar\n",
    "- Muito mais. Vale muito a pena ler o artigo do criador do algoritmo:\n",
    "    - https://arxiv.org/abs/1412.6980\n",
    "- E esse outro texto que é bem mais resumido:\n",
    "    - https://towardsdatascience.com/adam-latest-trends-in-deep-learning-optimization-6be9a291375c"
   ]
  },
  {
   "cell_type": "markdown",
   "metadata": {},
   "source": [
    "Vamos finalmente treinar nosso modelo:"
   ]
  },
  {
   "cell_type": "code",
   "execution_count": 11,
   "metadata": {},
   "outputs": [
    {
     "name": "stdout",
     "output_type": "stream",
     "text": [
      "Epoch 1/50\n",
      "8000/8000 [==============================] - 5s 602us/step - loss: 0.4914 - accuracy: 0.7954\n",
      "Epoch 2/50\n",
      "8000/8000 [==============================] - 3s 424us/step - loss: 0.4290 - accuracy: 0.7961\n",
      "Epoch 3/50\n",
      "8000/8000 [==============================] - 4s 484us/step - loss: 0.4224 - accuracy: 0.8186\n",
      "Epoch 4/50\n",
      "8000/8000 [==============================] - 4s 485us/step - loss: 0.4166 - accuracy: 0.8326\n",
      "Epoch 5/50\n",
      "8000/8000 [==============================] - 4s 455us/step - loss: 0.4128 - accuracy: 0.8336\n",
      "Epoch 6/50\n",
      "8000/8000 [==============================] - 3s 436us/step - loss: 0.4097 - accuracy: 0.8341\n",
      "Epoch 7/50\n",
      "8000/8000 [==============================] - 4s 449us/step - loss: 0.4071 - accuracy: 0.8334\n",
      "Epoch 8/50\n",
      "8000/8000 [==============================] - 4s 440us/step - loss: 0.4053 - accuracy: 0.8344\n",
      "Epoch 9/50\n",
      "8000/8000 [==============================] - 6s 710us/step - loss: 0.4038 - accuracy: 0.8341\n",
      "Epoch 10/50\n",
      "8000/8000 [==============================] - 5s 640us/step - loss: 0.4025 - accuracy: 0.8338\n",
      "Epoch 11/50\n",
      "8000/8000 [==============================] - 3s 425us/step - loss: 0.4018 - accuracy: 0.8342\n",
      "Epoch 12/50\n",
      "8000/8000 [==============================] - 5s 594us/step - loss: 0.4011 - accuracy: 0.8346\n",
      "Epoch 13/50\n",
      "8000/8000 [==============================] - 4s 448us/step - loss: 0.4003 - accuracy: 0.8350\n",
      "Epoch 14/50\n",
      "8000/8000 [==============================] - 3s 433us/step - loss: 0.3993 - accuracy: 0.8347\n",
      "Epoch 15/50\n",
      "8000/8000 [==============================] - 4s 486us/step - loss: 0.3991 - accuracy: 0.8364\n",
      "Epoch 16/50\n",
      "8000/8000 [==============================] - 3s 387us/step - loss: 0.3984 - accuracy: 0.8350\n",
      "Epoch 17/50\n",
      "8000/8000 [==============================] - 4s 452us/step - loss: 0.3982 - accuracy: 0.8356\n",
      "Epoch 18/50\n",
      "8000/8000 [==============================] - 3s 417us/step - loss: 0.3980 - accuracy: 0.8360\n",
      "Epoch 19/50\n",
      "8000/8000 [==============================] - 4s 488us/step - loss: 0.3981 - accuracy: 0.8342\n",
      "Epoch 20/50\n",
      "8000/8000 [==============================] - 3s 418us/step - loss: 0.3972 - accuracy: 0.8353\n",
      "Epoch 21/50\n",
      "8000/8000 [==============================] - 4s 468us/step - loss: 0.3971 - accuracy: 0.8350\n",
      "Epoch 22/50\n",
      "8000/8000 [==============================] - 4s 454us/step - loss: 0.3966 - accuracy: 0.8355\n",
      "Epoch 23/50\n",
      "8000/8000 [==============================] - 4s 455us/step - loss: 0.3965 - accuracy: 0.8361\n",
      "Epoch 24/50\n",
      "8000/8000 [==============================] - 4s 503us/step - loss: 0.3962 - accuracy: 0.8353\n",
      "Epoch 25/50\n",
      "8000/8000 [==============================] - 3s 374us/step - loss: 0.3965 - accuracy: 0.8364\n",
      "Epoch 26/50\n",
      "8000/8000 [==============================] - 3s 430us/step - loss: 0.3957 - accuracy: 0.8372\n",
      "Epoch 27/50\n",
      "8000/8000 [==============================] - 4s 446us/step - loss: 0.3958 - accuracy: 0.8370\n",
      "Epoch 28/50\n",
      "8000/8000 [==============================] - 3s 371us/step - loss: 0.3956 - accuracy: 0.8355\n",
      "Epoch 29/50\n",
      "8000/8000 [==============================] - 4s 461us/step - loss: 0.3958 - accuracy: 0.8353\n",
      "Epoch 30/50\n",
      "8000/8000 [==============================] - 3s 418us/step - loss: 0.3959 - accuracy: 0.8340\n",
      "Epoch 31/50\n",
      "8000/8000 [==============================] - 3s 411us/step - loss: 0.3948 - accuracy: 0.8374\n",
      "Epoch 32/50\n",
      "8000/8000 [==============================] - 4s 478us/step - loss: 0.3948 - accuracy: 0.8361\n",
      "Epoch 33/50\n",
      "8000/8000 [==============================] - 4s 489us/step - loss: 0.3956 - accuracy: 0.8385\n",
      "Epoch 34/50\n",
      "8000/8000 [==============================] - 4s 506us/step - loss: 0.3942 - accuracy: 0.8367\n",
      "Epoch 35/50\n",
      "8000/8000 [==============================] - 5s 651us/step - loss: 0.3953 - accuracy: 0.8371\n",
      "Epoch 36/50\n",
      "8000/8000 [==============================] - 6s 719us/step - loss: 0.3953 - accuracy: 0.8375\n",
      "Epoch 37/50\n",
      "8000/8000 [==============================] - 4s 562us/step - loss: 0.3946 - accuracy: 0.8378\n",
      "Epoch 38/50\n",
      "8000/8000 [==============================] - 4s 540us/step - loss: 0.3954 - accuracy: 0.8350\n",
      "Epoch 39/50\n",
      "8000/8000 [==============================] - 9s 1ms/step - loss: 0.3947 - accuracy: 0.8378\n",
      "Epoch 40/50\n",
      "8000/8000 [==============================] - 10s 1ms/step - loss: 0.3953 - accuracy: 0.8350\n",
      "Epoch 41/50\n",
      "8000/8000 [==============================] - 9s 1ms/step - loss: 0.3943 - accuracy: 0.8375\n",
      "Epoch 42/50\n",
      "8000/8000 [==============================] - 6s 794us/step - loss: 0.3947 - accuracy: 0.8356\n",
      "Epoch 43/50\n",
      "8000/8000 [==============================] - 5s 669us/step - loss: 0.3942 - accuracy: 0.8360\n",
      "Epoch 44/50\n",
      "8000/8000 [==============================] - 5s 667us/step - loss: 0.3946 - accuracy: 0.8365\n",
      "Epoch 45/50\n",
      "8000/8000 [==============================] - 7s 828us/step - loss: 0.3943 - accuracy: 0.8365\n",
      "Epoch 46/50\n",
      "8000/8000 [==============================] - 7s 847us/step - loss: 0.3945 - accuracy: 0.8380\n",
      "Epoch 47/50\n",
      "8000/8000 [==============================] - 7s 911us/step - loss: 0.3945 - accuracy: 0.8379\n",
      "Epoch 48/50\n",
      "8000/8000 [==============================] - 8s 944us/step - loss: 0.3938 - accuracy: 0.8384\n",
      "Epoch 49/50\n",
      "8000/8000 [==============================] - 6s 731us/step - loss: 0.3946 - accuracy: 0.8370\n",
      "Epoch 50/50\n",
      "8000/8000 [==============================] - 5s 684us/step - loss: 0.3941 - accuracy: 0.8374\n"
     ]
    },
    {
     "data": {
      "text/plain": [
       "<keras.callbacks.callbacks.History at 0x7f7390676e90>"
      ]
     },
     "execution_count": 11,
     "metadata": {},
     "output_type": "execute_result"
    }
   ],
   "source": [
    "classifier.fit(X_train, y_train, batch_size = 10, epochs = 50)"
   ]
  },
  {
   "cell_type": "code",
   "execution_count": 12,
   "metadata": {},
   "outputs": [],
   "source": [
    "y_pred = classifier.predict(X_test)\n",
    "y_pred = (y_pred > 0.5)"
   ]
  },
  {
   "cell_type": "code",
   "execution_count": 13,
   "metadata": {},
   "outputs": [
    {
     "data": {
      "text/plain": [
       "array([[1553,   42],\n",
       "       [ 275,  130]])"
      ]
     },
     "execution_count": 13,
     "metadata": {},
     "output_type": "execute_result"
    }
   ],
   "source": [
    "from sklearn.metrics import confusion_matrix\n",
    "cm = confusion_matrix(y_test, y_pred)\n",
    "cm"
   ]
  },
  {
   "cell_type": "code",
   "execution_count": null,
   "metadata": {},
   "outputs": [],
   "source": []
  }
 ],
 "metadata": {
  "kernelspec": {
   "display_name": "Python 3",
   "language": "python",
   "name": "python3"
  },
  "language_info": {
   "codemirror_mode": {
    "name": "ipython",
    "version": 3
   },
   "file_extension": ".py",
   "mimetype": "text/x-python",
   "name": "python",
   "nbconvert_exporter": "python",
   "pygments_lexer": "ipython3",
   "version": "3.7.6"
  }
 },
 "nbformat": 4,
 "nbformat_minor": 4
}
